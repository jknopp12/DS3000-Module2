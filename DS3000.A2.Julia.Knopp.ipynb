{
 "cells": [
  {
   "cell_type": "markdown",
   "metadata": {},
   "source": [
    "# DS 3000 - Assignment 2\n",
    "\n",
    "**Student Name**: Julia Knopp\n",
    "\n",
    "**Date**: September 11, 2023\n",
    "\n",
    "\n",
    "### Submission Instructions\n",
    "Submit this `ipynb` file to canvas.\n",
    "\n",
    "The `ipynb` format stores outputs from the last time you ran the notebook.  (When you open a notebook it has the figures and outputs of the last time you ran it too).  To ensure that your submitted `ipynb` file represents your latest code, make sure to give a fresh run `Kernel > Restart & Run All` just before uploading the `ipynb` file to Canvas.\n",
    "\n",
    "### Academic Integrity\n",
    "\n",
    "**Writing your homework is an individual effort.**  You may discuss general python problems with other students but under no circumstances should you observe another student's code which was written for this assignment, from this year or past years.  Pop into office hours or DM us in MS Teams if you have a specific question about your work or if you would like another pair of eyes or talk through your code.\n",
    "\n",
    "Don't forget to cite websites which helped you solve a problem in a unique way.  You can do this in markdown near the code or with a simple one-line comment. You do not need to cite the official python documentation.\n",
    "\n",
    "**Documentation / style counts for credit**  Please refer to the Pep-8 style, to improve the readability and consistency of your Python code. For more information, read the following article [How to Write Beautiful Python Code With PEP 8](https://realpython.com/python-pep8/) or ask your TA's for tips.\n",
    "\n",
    "**NOTE:<span style='color:red'> Write python expressions to answer ALL questions below and ensure that you use the `print()` function to display the output.</span>** Each question should be answered in a new code cell. For example, your solution for question 1.1 should be in a different code cell from your solution for question 1.2."
   ]
  },
  {
   "cell_type": "markdown",
   "metadata": {},
   "source": [
    "## Question 1: Fermat's Last Theorem (20 pts)\n",
    "[Fermat's Last Theorem](https://en.wikipedia.org/wiki/Fermat%27s_Last_Theorem) states that there are no three positive integers a, b, and c such that a<sup>n</sup> + b<sup>n</sup> = c<sup>n</sup>, for any values of n greater than 2. \n",
    "\n",
    "\n",
    "You are required to create a function called `validate_fermat()` which takes `a`,`b`,`c` and `n` as input. Inside the function, write code that checks if Fermat's last theorem is True. \n",
    "\n",
    "**Requirements:**\n",
    "- Your program should ask the user to enter values for a, b, c, and n. `Hint:` Use the `input()` function.\n",
    "- Pass the user's input values to your function. \n",
    "- Ensure that the logic inside your function checks the following:\n",
    "    - if the user entered positive values for a, b, and c. \n",
    "    - if the value that was entered for `n` is greater than 2. `Note:` You can assume that `n` is an integer.\n",
    "    - if a<sup>n</sup> + b<sup>n</sup> = c<sup>n</sup>. If the condition is `True`, your program should print 'Fermat was wrong!'. Otherwise, the program should print 'Fermat’s Last Theorem remains True!'.\n",
    "    \n",
    "**`Note:` Do not use any built-in functions to perform your calculations and always display user-friendly messages.**\n"
   ]
  },
  {
   "cell_type": "code",
   "execution_count": 1,
   "metadata": {},
   "outputs": [],
   "source": [
    "#Write your python code to answer question 1\n",
    "def validate_fermat():\n",
    "    a = input('Enter a positive value for a:')\n",
    "    while int(a) <= 0:\n",
    "        a = input('Try again. Enter a positive value for a:')\n",
    "    b = input('Enter a positive value for b:')\n",
    "    while int(b) <= 0:\n",
    "        b = input('Try again. Enter a positive value for b:')\n",
    "    c = input('Enter a positive value for c:')\n",
    "    while int(c) <= 0:\n",
    "        c = input('Try again. Enter a positive value for c:')\n",
    "    n = input('Enter a value greater than two for n:')\n",
    "    while int(n) <= 2:\n",
    "        n = input('Try again. Enter a value greater than two for n:')\n",
    "    if int(a)**int(n) + int(b)**int(n) == int(c)**int(n):\n",
    "        return \"Fermat was wrong!\"\n",
    "    else:\n",
    "        return \"Fermat's Last Theorem remains True!\""
   ]
  },
  {
   "cell_type": "code",
   "execution_count": 2,
   "metadata": {},
   "outputs": [
    {
     "name": "stdout",
     "output_type": "stream",
     "text": [
      "Enter a positive value for a:5\n",
      "Enter a positive value for b:4\n",
      "Enter a positive value for c:7\n",
      "Enter a value greater than two for n:4\n",
      "Fermat's Last Theorem remains True!\n"
     ]
    }
   ],
   "source": [
    "result = validate_fermat()\n",
    "print(result)"
   ]
  },
  {
   "cell_type": "code",
   "execution_count": null,
   "metadata": {},
   "outputs": [],
   "source": []
  },
  {
   "cell_type": "code",
   "execution_count": null,
   "metadata": {},
   "outputs": [],
   "source": []
  },
  {
   "cell_type": "markdown",
   "metadata": {},
   "source": [
    "## Question 2: The Guessing Game (30 pts + 2 bonus pts)\n",
    "Write a program that plays the game of **Guess the Number**. Your program should first choose the number to be guessed by selecting an integer at random between the range of 1 to 50 (inclusive)<sup>†</sup>.  The program should then display the following message:\n",
    "\n",
    " \n",
    "```\n",
    "I'm thinking of a number between 1 and 50. Can you guess the number?\n",
    "Enter your first guess: \n",
    "```\n",
    "\n",
    "The program should allow the user to enter their selected number. If the guess is less than the randomly generated number, display:\n",
    "\n",
    "```\n",
    "Your guess is too low. Try again! \n",
    "```\n",
    "\n",
    "The user should then be allowed to make another attempt. If the guess is greater than the randomly generated number, display:\n",
    "\n",
    "```\n",
    "Your guess is too high. Try again! \n",
    "```\n",
    "\n",
    "If the user guessed the correct number, your program should output the following message and then terminate:\n",
    "```\n",
    "Thats correct!\n",
    "```\n",
    "\n",
    "The program should give the user a maximum of 10 attempts to guess the correct number (Hint: use a loop).\n",
    "\n",
    "\n",
    "<sup>†</sup>**Tip**: you can generate pseudo-random numbers using the `randint()` function.\n",
    "\n",
    "BONUS: <span style='color:red'> I'll give an additional 2 bonus points, if you can keep track of the number of guesses that the user made and display a friendly message notifying the user about the number of attempts they made. Only display this message to the user when they guessed the correct number.</span>"
   ]
  },
  {
   "cell_type": "code",
   "execution_count": 35,
   "metadata": {},
   "outputs": [],
   "source": [
    "#Write your python code to answer question 2\n",
    "def guessing_game(num, n):\n",
    "    guess = input(\"I'm thinking of a number between 1 and 50. Can you guess the number?\\nEnter your first guess:\\n\")\n",
    "    while n < 10:\n",
    "        if int(guess) != num:\n",
    "            if int(guess) < num:\n",
    "                guess = input(\"Your guess is too low. Try again!\\n\")\n",
    "                n += 1\n",
    "                continue\n",
    "            if int(guess) > num:\n",
    "                guess = input(\"Your guess is too high. Try again!\\n\")\n",
    "                n += 1\n",
    "                continue\n",
    "        else:\n",
    "            return \"Thats correct!\\nThis is how many guesses you made: \" + str(n)\n",
    "    return \"Sorry, you've used all your attempts.\\nThe correct answer was \" + str(num)"
   ]
  },
  {
   "cell_type": "code",
   "execution_count": 36,
   "metadata": {},
   "outputs": [
    {
     "name": "stdout",
     "output_type": "stream",
     "text": [
      "I'm thinking of a number between 1 and 50. Can you guess the number?\n",
      "Enter your first guess:\n",
      "50\n",
      "Your guess is too high. Try again!\n",
      "49\n",
      "Your guess is too high. Try again!\n",
      "1\n",
      "Your guess is too low. Try again!\n",
      "48\n",
      "Your guess is too high. Try again!\n",
      "2\n",
      "Your guess is too low. Try again!\n",
      "5\n",
      "Your guess is too low. Try again!\n",
      "8\n",
      "Your guess is too low. Try again!\n",
      "99\n",
      "Your guess is too high. Try again!\n",
      "100\n",
      "Your guess is too high. Try again!\n",
      "1010101010932948\n",
      "Sorry, you've used all your attempts.\n",
      "The correct answer was 11\n"
     ]
    }
   ],
   "source": [
    "import random\n",
    "n = 1\n",
    "num = random.randint(1, 50)\n",
    "result = guessing_game(num, n)\n",
    "print(result)"
   ]
  },
  {
   "cell_type": "code",
   "execution_count": null,
   "metadata": {},
   "outputs": [],
   "source": []
  }
 ],
 "metadata": {
  "kernelspec": {
   "display_name": "Python 3 (ipykernel)",
   "language": "python",
   "name": "python3"
  },
  "language_info": {
   "codemirror_mode": {
    "name": "ipython",
    "version": 3
   },
   "file_extension": ".py",
   "mimetype": "text/x-python",
   "name": "python",
   "nbconvert_exporter": "python",
   "pygments_lexer": "ipython3",
   "version": "3.9.13"
  }
 },
 "nbformat": 4,
 "nbformat_minor": 4
}
